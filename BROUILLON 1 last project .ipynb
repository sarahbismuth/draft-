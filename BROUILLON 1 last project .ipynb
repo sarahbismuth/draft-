{
 "cells": [
  {
   "cell_type": "markdown",
   "metadata": {},
   "source": [
    "# DAV 5400 Final Project Proposal Guidelines"
   ]
  },
  {
   "cell_type": "markdown",
   "metadata": {},
   "source": [
    "The proposal for the final project will be submitted in the form of a formal research proposal document. __Specifically, your proposal must include each of the sections outlined below__ and must be submitted in the form of a Jupyter Notebook that has been posted to your GitHub DAV5400 repository.\n",
    "\n",
    "### Please be sure to read the Final Project Checklist provided in the Final Project description document before submitting your proposal !!\n",
    "\n",
    "The Final Project Checklist contains a number of project requirements that you are required to satisfy as part of your Final Project work. __Please be sure that your proposed project will enable you to satisfy each of those requirements!!__\n",
    "\n",
    "<br>\n",
    "<br>\n",
    "\n",
    "\\*\\* If you are working as a team, be sure to include the name of each team member at the top of the document (prior to the \"Introduction\" section) and clearly explain what specific tasks each team member will be responsible for during your Final Project efforts.\n",
    "<br>\n",
    "<br>\n",
    "\n",
    "\\*\\* Also, please note that the initial draft of your proposal is due not later than __Sunday October 27__ and the final version of your proposal is due no later than __Wednesday November 20__. However, you are strongly encouraged to submit your proposal at any time prior to those dates: doing so will serve to increase the amount of time available to you for your Final Project efforts.\n",
    "\n"
   ]
  },
  {
   "cell_type": "markdown",
   "metadata": {},
   "source": [
    "## Introduction\n",
    "\n",
    "*This section should provide some context for the basis of the research questions you plan to answer without actually describing the research questions themselves. For example, if your research questions are focused on a health related issue, you might provide a brief summary of how many people are affected by that issue each year either regionally, nationally or globally, including any infection rate or mortality statistics you were able to gather. Basically, in the Introduction you are trying to make the reader understand why the research questions you are going to propose are relevant and should be of interest to them.*"
   ]
  },
  {
   "cell_type": "markdown",
   "metadata": {},
   "source": [
    "Gun ownership is a right in the United State constitution.Indeed American own more guns per capita than residents of any other countries, gun Homicide rates are much higher than the rest of the world, and  we can constat an increase of the frequency of mass shootin.Other the years Gun control was and is a politically divise topic, with people having different strong opinion on it.Whever we are talking about Homicide,Suicide or mass shooting the shooters profile are diverse, some are young, some have mental illiness or some have gun experience and training, which make difficult to target a specific category of massive  gun shooter in order to stop them.\n",
    "Moreover whever they are victim  themselve or someone close to them, or shooter young are extremly affected by this gun violence,Among the world's wealthy nations, the United States accounts for 91 percent of all firearm deaths of children younger than 15,with a majority of mass shooting occuring in school and university, places where youth are supposed to be safe.\n",
    "Thus, this liberty of having a gun in the US can create a complete desequilibrium in the life of US citizen, and must be a subject to look at carefully."
   ]
  },
  {
   "cell_type": "markdown",
   "metadata": {},
   "source": [
    "## Research Questions\n",
    "\n",
    "*Provide a single succinct sentence that describes each of your research questions. Then provide a paragraph or two explaining how the results of your research might be used/implemented in the \"real world\".*"
   ]
  },
  {
   "cell_type": "markdown",
   "metadata": {},
   "source": [
    "What are the more popular profile of shooter and how youth are affected by the shooting in the US?\n",
    "\n",
    "The results of this research would first able authorities to better targeted who are suceptible to use their gun in a wrong way,for instance we could create test that they have to succeed before being able to buy a gun.\n",
    "Furthemore, analyzing these data can araise awaresness to different level; awareness of the government in order to control this liberty and the  right  of the gun control, awareness that things must change, that for the youth it is an unhealthy way of being raised.\n",
    "The result can also be implemented in the real world in order to find solution for the youth to be less affected by this phenomenon.\n"
   ]
  },
  {
   "cell_type": "markdown",
   "metadata": {},
   "source": [
    "## Data to be Used\n",
    "\n",
    "*Clearly identify the sources of your data and explain the methods you will use to collect the data from those sources, e.g., \"Data from this source will be loaded into an SQL database..\" or \"Data will need to be collected from this source via scraping of a web page..\", etc.*"
   ]
  },
  {
   "cell_type": "markdown",
   "metadata": {},
   "source": [
    "The first sources of my data wil be a cvs fil acquire on Kaggle that is called Stanford Mass Shootings in America.I will use these data converting it into a dataFrame in Python. \n",
    "The second source of dat ais an article called\"The Impact of Gun Violence on Children and Teens\", in order to collect the dat of this articl  will use Webscrapping."
   ]
  },
  {
   "cell_type": "markdown",
   "metadata": {},
   "source": [
    "## Approach\n",
    "\n",
    "*Explain how you plan to manage the data you are collecting: e.g., will you be storing it within some sort of database, etc.? Explain what types of statistical analysis you plan to utilize to help answer your research questions. Explain any graphics you plan to generate to help answer you research questions, e.g., \"..we will attempt to construct geoplots that will show how xxxxxx varies between counties within the state of Nevada..\", etc. The reader should come away with a clear understanding of how you plan to proceed with your work. Keep in mind that since this is a proposal, you need to be able to convince the reader that your proposed project is: a) realistic; and b) feasible within the time alloted for the project.*"
   ]
  },
  {
   "cell_type": "markdown",
   "metadata": {},
   "source": [
    "I will attempt to create a geoplot of the united state to have a visualization ot the mass shooting in the different state of the United state.\n",
    "Then we will do many calculations in order to have informations about the shooter and the youth that are  affected.\n",
    "We will compute the average of the aveage age of the shooter, we will compute the count of the sex of the shooter to see if there is a greater tendency of male or female shooter.\n",
    "We will see if there is a remationship between the number of victims and the military experience, display a scatter plot.\n",
    "COmpute the average of victim for each state.\n",
    "Create a new colum called youth shooter that will display only the shooter that are less than 21, and display a bar char of the true and false value to see the proportion.\n"
   ]
  }
 ],
 "metadata": {
  "kernelspec": {
   "display_name": "Python 3",
   "language": "python",
   "name": "python3"
  },
  "language_info": {
   "codemirror_mode": {
    "name": "ipython",
    "version": 3
   },
   "file_extension": ".py",
   "mimetype": "text/x-python",
   "name": "python",
   "nbconvert_exporter": "python",
   "pygments_lexer": "ipython3",
   "version": "3.7.3"
  }
 },
 "nbformat": 4,
 "nbformat_minor": 2
}
